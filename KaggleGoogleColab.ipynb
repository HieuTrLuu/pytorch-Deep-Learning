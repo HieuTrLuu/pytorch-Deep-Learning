{
  "nbformat": 4,
  "nbformat_minor": 0,
  "metadata": {
    "colab": {
      "name": "Riid.ipynb",
      "provenance": [],
      "authorship_tag": "ABX9TyMblJEynRoR6uGD/XU7G2YD",
      "include_colab_link": true
    },
    "kernelspec": {
      "name": "python3",
      "display_name": "Python 3"
    }
  },
  "cells": [
    {
      "cell_type": "markdown",
      "metadata": {
        "id": "view-in-github",
        "colab_type": "text"
      },
      "source": [
        "<a href=\"https://colab.research.google.com/github/HieuTrLuu/pytorch-Deep-Learning/blob/master/KaggleGoogleColab.ipynb\" target=\"_parent\"><img src=\"https://colab.research.google.com/assets/colab-badge.svg\" alt=\"Open In Colab\"/></a>"
      ]
    },
    {
      "cell_type": "code",
      "metadata": {
        "id": "v8rlRqPSCnbV",
        "outputId": "19841dea-8489-4883-c4e2-7384c468991e",
        "colab": {
          "base_uri": "https://localhost:8080/"
        }
      },
      "source": [
        "!pip install kaggle"
      ],
      "execution_count": 3,
      "outputs": [
        {
          "output_type": "stream",
          "text": [
            "Requirement already satisfied: kaggle in /usr/local/lib/python3.6/dist-packages (1.5.9)\n",
            "Requirement already satisfied: slugify in /usr/local/lib/python3.6/dist-packages (from kaggle) (0.0.1)\n",
            "Requirement already satisfied: certifi in /usr/local/lib/python3.6/dist-packages (from kaggle) (2020.6.20)\n",
            "Requirement already satisfied: six>=1.10 in /usr/local/lib/python3.6/dist-packages (from kaggle) (1.15.0)\n",
            "Requirement already satisfied: python-slugify in /usr/local/lib/python3.6/dist-packages (from kaggle) (4.0.1)\n",
            "Requirement already satisfied: python-dateutil in /usr/local/lib/python3.6/dist-packages (from kaggle) (2.8.1)\n",
            "Requirement already satisfied: requests in /usr/local/lib/python3.6/dist-packages (from kaggle) (2.23.0)\n",
            "Requirement already satisfied: urllib3 in /usr/local/lib/python3.6/dist-packages (from kaggle) (1.24.3)\n",
            "Requirement already satisfied: tqdm in /usr/local/lib/python3.6/dist-packages (from kaggle) (4.41.1)\n",
            "Requirement already satisfied: text-unidecode>=1.3 in /usr/local/lib/python3.6/dist-packages (from python-slugify->kaggle) (1.3)\n",
            "Requirement already satisfied: idna<3,>=2.5 in /usr/local/lib/python3.6/dist-packages (from requests->kaggle) (2.10)\n",
            "Requirement already satisfied: chardet<4,>=3.0.2 in /usr/local/lib/python3.6/dist-packages (from requests->kaggle) (3.0.4)\n"
          ],
          "name": "stdout"
        }
      ]
    },
    {
      "cell_type": "code",
      "metadata": {
        "id": "46fahqr1HxFY"
      },
      "source": [
        "import os"
      ],
      "execution_count": 13,
      "outputs": []
    },
    {
      "cell_type": "code",
      "metadata": {
        "id": "vQI8QnE8GKgv",
        "outputId": "89820a32-c2da-401a-938a-7c77257df2cd",
        "colab": {
          "base_uri": "https://localhost:8080/"
        }
      },
      "source": [
        "from google.colab import files, drive\n",
        "drive.mount('/content/gdrive')"
      ],
      "execution_count": 9,
      "outputs": [
        {
          "output_type": "stream",
          "text": [
            "Mounted at /content/gdrive\n"
          ],
          "name": "stdout"
        }
      ]
    },
    {
      "cell_type": "code",
      "metadata": {
        "id": "6Z09-yh0GsJr"
      },
      "source": [
        "os.environ['KAGGLE_CONFIG_DIR'] = \"/content/gdrive/My Drive/Kaggle\""
      ],
      "execution_count": 20,
      "outputs": []
    },
    {
      "cell_type": "code",
      "metadata": {
        "id": "0fWLD7DNIEaF",
        "outputId": "01d72dae-c494-4bc4-c373-daf69d759d5e",
        "colab": {
          "base_uri": "https://localhost:8080/"
        }
      },
      "source": [
        "#changing the working directory\n",
        "%cd /content/gdrive/My Drive/Kaggle"
      ],
      "execution_count": 21,
      "outputs": [
        {
          "output_type": "stream",
          "text": [
            "/content/gdrive/My Drive/Kaggle\n"
          ],
          "name": "stdout"
        }
      ]
    },
    {
      "cell_type": "code",
      "metadata": {
        "id": "BYLHSscrIi_q",
        "outputId": "cb5c8dd8-d86c-4d21-dfb1-3b0200bb9a1b",
        "colab": {
          "base_uri": "https://localhost:8080/"
        }
      },
      "source": [
        "!pwd"
      ],
      "execution_count": 22,
      "outputs": [
        {
          "output_type": "stream",
          "text": [
            "/content/gdrive/My Drive/Kaggle\n"
          ],
          "name": "stdout"
        }
      ]
    },
    {
      "cell_type": "code",
      "metadata": {
        "id": "sZyvN5-LIkHz",
        "outputId": "8cb38dab-74fd-41e9-ec1a-2d679c9b3424",
        "colab": {
          "base_uri": "https://localhost:8080/"
        }
      },
      "source": [
        "!kaggle competitions download -c riiid-test-answer-prediction"
      ],
      "execution_count": 23,
      "outputs": [
        {
          "output_type": "stream",
          "text": [
            "Warning: Looks like you're using an outdated API Version, please consider updating (server 1.5.9 / client 1.5.4)\n",
            "Downloading competition.cpython-37m-x86_64-linux-gnu.so to /content/gdrive/My Drive/Kaggle\n",
            "  0% 0.00/445k [00:00<?, ?B/s]\n",
            "100% 445k/445k [00:00<00:00, 30.5MB/s]\n",
            "Downloading __init__.py to /content/gdrive/My Drive/Kaggle\n",
            "  0% 0.00/59.0 [00:00<?, ?B/s]\n",
            "100% 59.0/59.0 [00:00<00:00, 8.29kB/s]\n",
            "Downloading example_sample_submission.csv to /content/gdrive/My Drive/Kaggle\n",
            "  0% 0.00/971 [00:00<?, ?B/s]\n",
            "100% 971/971 [00:00<00:00, 130kB/s]\n",
            "Downloading questions.csv to /content/gdrive/My Drive/Kaggle\n",
            "  0% 0.00/289k [00:00<?, ?B/s]\n",
            "100% 289k/289k [00:00<00:00, 40.5MB/s]\n",
            "Downloading lectures.csv to /content/gdrive/My Drive/Kaggle\n",
            "  0% 0.00/9.48k [00:00<?, ?B/s]\n",
            "100% 9.48k/9.48k [00:00<00:00, 1.35MB/s]\n",
            "Downloading train.csv.zip to /content/gdrive/My Drive/Kaggle\n",
            "100% 1.29G/1.29G [00:10<00:00, 151MB/s]\n",
            "100% 1.29G/1.29G [00:10<00:00, 133MB/s]\n",
            "Downloading example_test.csv to /content/gdrive/My Drive/Kaggle\n",
            "  0% 0.00/5.99k [00:00<?, ?B/s]\n",
            "100% 5.99k/5.99k [00:00<00:00, 835kB/s]\n"
          ],
          "name": "stdout"
        }
      ]
    },
    {
      "cell_type": "code",
      "metadata": {
        "id": "MzV2LB5cIqBu"
      },
      "source": [
        ""
      ],
      "execution_count": null,
      "outputs": []
    }
  ]
}